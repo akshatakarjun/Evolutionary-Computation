{
  "nbformat": 4,
  "nbformat_minor": 0,
  "metadata": {
    "colab": {
      "provenance": []
    },
    "kernelspec": {
      "name": "python3",
      "display_name": "Python 3"
    },
    "language_info": {
      "name": "python"
    }
  },
  "cells": [
    {
      "cell_type": "markdown",
      "source": [
        "#### However, tournament selection was able to achieve better for a  maximum fitness of 100,  at less generation (24th) but also required the highest crossover and mutation probability. Keeping the crossover and mutation at the bare minimum did not help achieve as the fitness fluctuated very quickly.  "
      ],
      "metadata": {
        "id": "FaIyC7CEciuI"
      }
    },
    {
      "cell_type": "code",
      "execution_count": 23,
      "metadata": {
        "colab": {
          "base_uri": "https://localhost:8080/"
        },
        "id": "1p77XMrRwPH_",
        "outputId": "d8a1deb4-9afc-4e3f-b6c4-4ea10fbf8d22"
      },
      "outputs": [
        {
          "output_type": "stream",
          "name": "stdout",
          "text": [
            "Requirement already satisfied: deap in /usr/local/lib/python3.10/dist-packages (1.4.1)\n",
            "Requirement already satisfied: numpy in /usr/local/lib/python3.10/dist-packages (from deap) (1.23.5)\n"
          ]
        }
      ],
      "source": [
        "!pip install deap"
      ]
    },
    {
      "cell_type": "code",
      "source": [
        "from deap import base\n",
        "from deap import creator\n",
        "from deap import tools\n",
        "\n",
        "import random\n",
        "\n",
        "import matplotlib.pyplot as plt\n"
      ],
      "metadata": {
        "id": "AywBczfhwqAO"
      },
      "execution_count": 24,
      "outputs": []
    },
    {
      "cell_type": "code",
      "source": [
        "# Genetic Algorithm constants:\n",
        "POPULATION_SIZE = 1500  # size of the population\n",
        "P_CROSSOVER = 0.9 # probability for crossover\n",
        "P_MUTATION = 0.05   # probability for mutating an individual\n",
        "MAX_GENERATIONS = 100"
      ],
      "metadata": {
        "id": "iu015crgwsTR"
      },
      "execution_count": 25,
      "outputs": []
    },
    {
      "cell_type": "code",
      "source": [
        "ONE_MAX_LENGTH = 100  # length of bit string to be optimized"
      ],
      "metadata": {
        "id": "WADrXCV9wxqm"
      },
      "execution_count": 26,
      "outputs": []
    },
    {
      "cell_type": "code",
      "source": [
        "RANDOM_SEED = 42\n",
        "random.seed(RANDOM_SEED)"
      ],
      "metadata": {
        "id": "7aMZH5TSw06g"
      },
      "execution_count": 27,
      "outputs": []
    },
    {
      "cell_type": "code",
      "source": [
        "toolbox = base.Toolbox()\n",
        "\n",
        "# create an operator that randomly returns 0 or 1:\n",
        "toolbox.register(\"zeroOrOne\", random.randint, 0, 1)\n",
        "\n",
        "# define a single objective, maximizing fitness strategy:\n",
        "creator.create(\"FitnessMax\", base.Fitness, weights=(1.0,))\n",
        "\n",
        "# create the Individual class based on list:\n",
        "creator.create(\"Individual\", list, fitness=creator.FitnessMax)\n",
        "#creator.create(\"Individual\", array.array, typecode='b', fitness=creator.FitnessMax)\n",
        "\n",
        "# create the individual operator to fill up an Individual instance:\n",
        "toolbox.register(\"individualCreator\", tools.initRepeat, creator.Individual, toolbox.zeroOrOne, ONE_MAX_LENGTH)\n",
        "\n",
        "# create the population operator to generate a list of individuals:\n",
        "toolbox.register(\"populationCreator\", tools.initRepeat, list, toolbox.individualCreator)\n",
        "\n",
        "\n",
        "# fitness calculation:\n",
        "# compute the number of '1's in the individual\n",
        "def oneMaxFitness(individual):\n",
        "    return sum(individual),  # return a tuple\n",
        "\n",
        "\n",
        "toolbox.register(\"evaluate\", oneMaxFitness)\n",
        "\n",
        "# genetic operators:\n",
        "\n",
        "# Tournament selection with tournament size of 3:\n",
        "toolbox.register(\"select\", tools.selTournament, tournsize=3)\n",
        "\n",
        "# Single-point crossover:\n",
        "toolbox.register(\"mate\", tools.cxOnePoint)\n",
        "\n",
        "# Flip-bit mutation:\n",
        "# indpb: Independent probability for each attribute to be flipped\n",
        "toolbox.register(\"mutate\", tools.mutFlipBit, indpb=1.0/ONE_MAX_LENGTH)"
      ],
      "metadata": {
        "id": "3n2eliY-w7vo"
      },
      "execution_count": 28,
      "outputs": []
    },
    {
      "cell_type": "code",
      "source": [
        "# create initial population (generation 0):\n",
        "population = toolbox.populationCreator(n=POPULATION_SIZE)\n",
        "generationCounter = 0\n",
        "\n",
        "# calculate fitness tuple for each individual in the population:\n",
        "fitnessValues = list(map(toolbox.evaluate, population))\n",
        "for individual, fitnessValue in zip(population, fitnessValues):\n",
        "    individual.fitness.values = fitnessValue\n",
        "\n",
        "# extract fitness values from all individuals in population:\n",
        "fitnessValues = [individual.fitness.values[0] for individual in population]\n",
        "\n",
        "# initialize statistics accumulators:\n",
        "maxFitnessValues = []\n",
        "meanFitnessValues = []\n",
        "\n",
        "# main evolutionary loop:\n",
        "# stop if max fitness value reached the known max value\n",
        "# OR if number of generations exceeded the preset value:\n",
        "while max(fitnessValues) < ONE_MAX_LENGTH and generationCounter < MAX_GENERATIONS:\n",
        "    # update counter:\n",
        "    generationCounter = generationCounter + 1\n",
        "\n",
        "    # apply the selection operator, to select the next generation's individuals:\n",
        "    offspring = toolbox.select(population, len(population))\n",
        "    # clone the selected individuals:\n",
        "    offspring = list(map(toolbox.clone, offspring))\n",
        "\n",
        "    # apply the crossover operator to pairs of offspring:\n",
        "    for child1, child2 in zip(offspring[::2], offspring[1::2]):\n",
        "        if random.random() < P_CROSSOVER:\n",
        "            toolbox.mate(child1, child2)\n",
        "            del child1.fitness.values\n",
        "            del child2.fitness.values\n",
        "\n",
        "    for mutant in offspring:\n",
        "        if random.random() < P_MUTATION:\n",
        "            toolbox.mutate(mutant)\n",
        "            del mutant.fitness.values\n",
        "\n",
        "    # calculate fitness for the individuals with no previous calculated fitness value:\n",
        "    freshIndividuals = [ind for ind in offspring if not ind.fitness.valid]\n",
        "    freshFitnessValues = list(map(toolbox.evaluate, freshIndividuals))\n",
        "    for individual, fitnessValue in zip(freshIndividuals, freshFitnessValues):\n",
        "        individual.fitness.values = fitnessValue\n",
        "\n",
        "    # replace the current population with the offspring:\n",
        "    population[:] = offspring\n",
        "\n",
        "    # collect fitnessValues into a list, update statistics and print:\n",
        "    fitnessValues = [ind.fitness.values[0] for ind in population]\n",
        "\n",
        "    maxFitness = max(fitnessValues)\n",
        "    meanFitness = sum(fitnessValues) / len(population)\n",
        "    maxFitnessValues.append(maxFitness)\n",
        "    meanFitnessValues.append(meanFitness)\n",
        "    print(\"- Generation {}: Max Fitness = {}, Avg Fitness = {}\".format(generationCounter, maxFitness, meanFitness))\n",
        "\n",
        "    # find and print best individual:\n",
        "    best_index = fitnessValues.index(max(fitnessValues))\n",
        "    print(\"Best Individual = \", *population[best_index], \"\\n\")"
      ],
      "metadata": {
        "colab": {
          "base_uri": "https://localhost:8080/"
        },
        "id": "zoKrPN5CxGO3",
        "outputId": "515d3145-12f3-444a-a882-e9432dbc66d1"
      },
      "execution_count": 29,
      "outputs": [
        {
          "output_type": "stream",
          "name": "stdout",
          "text": [
            "- Generation 1: Max Fitness = 67.0, Avg Fitness = 54.034666666666666\n",
            "Best Individual =  1 0 1 1 1 0 1 1 1 1 1 1 1 0 0 1 0 1 0 1 1 1 1 0 1 0 0 1 1 1 1 1 1 1 0 0 0 1 1 0 1 0 0 0 1 1 1 0 1 1 1 0 1 1 1 1 1 1 1 1 1 1 1 1 1 1 1 1 0 1 0 1 0 0 0 1 0 1 0 1 0 0 1 1 1 1 0 1 0 1 1 1 0 1 1 1 0 0 0 1 \n",
            "\n",
            "- Generation 2: Max Fitness = 70.0, Avg Fitness = 57.67666666666667\n",
            "Best Individual =  1 1 1 1 1 0 1 1 1 0 1 1 0 0 1 1 1 0 1 1 0 1 1 1 1 0 1 1 1 0 1 1 1 0 1 0 0 1 1 1 1 1 0 0 1 0 0 1 0 1 1 1 1 1 0 0 0 0 1 0 1 1 1 1 1 1 0 1 1 1 0 1 0 1 1 1 0 1 1 0 1 1 0 1 1 1 1 1 1 0 1 0 1 1 1 1 1 1 0 1 \n",
            "\n",
            "- Generation 3: Max Fitness = 72.0, Avg Fitness = 60.674\n",
            "Best Individual =  1 1 1 1 1 1 0 1 1 1 1 1 0 1 0 1 1 0 1 1 1 1 0 1 1 1 1 0 1 0 1 1 0 1 1 1 1 1 1 1 0 0 1 1 1 1 0 1 0 1 0 0 1 1 1 1 1 1 1 0 0 1 1 0 0 1 1 0 1 1 1 1 1 1 0 0 0 1 0 1 1 0 0 1 1 1 1 1 1 0 1 1 1 0 1 1 1 1 0 1 \n",
            "\n",
            "- Generation 4: Max Fitness = 76.0, Avg Fitness = 63.42133333333334\n",
            "Best Individual =  1 1 0 0 1 1 1 0 1 0 1 1 1 1 0 1 1 1 1 1 1 0 1 1 1 0 1 1 1 1 1 1 1 0 1 1 1 1 1 1 1 1 0 1 0 1 1 1 1 1 1 1 1 0 1 1 1 1 0 1 1 0 0 1 1 1 0 1 1 1 1 1 1 1 0 0 0 1 0 1 1 0 0 1 1 1 1 1 1 0 1 1 1 0 1 1 1 1 0 1 \n",
            "\n",
            "- Generation 5: Max Fitness = 78.0, Avg Fitness = 66.198\n",
            "Best Individual =  1 1 1 0 1 0 1 1 1 1 1 1 1 1 1 1 1 1 1 1 1 1 1 1 0 1 0 1 0 1 1 1 0 1 1 1 1 1 1 1 0 1 1 0 1 0 1 1 1 0 0 1 1 1 1 1 1 0 1 0 0 1 1 1 1 1 1 1 1 0 1 0 1 1 1 1 0 1 1 0 1 1 0 1 1 1 1 1 1 0 1 0 1 1 1 1 1 1 0 1 \n",
            "\n",
            "- Generation 6: Max Fitness = 80.0, Avg Fitness = 68.86133333333333\n",
            "Best Individual =  0 1 1 1 1 1 1 1 1 1 0 1 1 1 0 1 1 0 1 1 1 1 0 1 1 1 1 0 1 0 1 1 0 1 1 1 1 1 1 1 1 0 1 1 1 1 1 0 0 1 0 0 1 1 1 1 1 1 1 1 1 1 1 1 1 1 1 1 0 1 1 1 1 1 1 0 0 1 1 0 1 0 1 0 1 1 1 1 1 1 0 1 1 1 1 1 1 1 1 1 \n",
            "\n",
            "- Generation 7: Max Fitness = 82.0, Avg Fitness = 71.432\n",
            "Best Individual =  0 1 0 0 1 1 1 0 1 0 1 1 1 1 0 1 1 1 1 1 1 1 1 0 1 1 1 0 1 1 1 1 1 0 1 1 1 1 1 1 1 1 0 1 0 1 1 1 1 1 1 1 1 1 1 1 1 1 1 1 1 1 1 1 0 1 1 0 1 1 0 1 0 1 1 1 1 1 1 1 1 1 1 0 0 1 1 1 1 1 0 1 1 1 1 1 1 1 1 1 \n",
            "\n",
            "- Generation 8: Max Fitness = 83.0, Avg Fitness = 73.66266666666667\n",
            "Best Individual =  0 1 1 1 1 1 1 0 1 1 1 0 1 1 0 1 1 1 1 1 1 1 1 1 1 0 1 1 1 1 1 1 1 0 1 1 1 1 1 1 1 1 0 1 0 1 1 1 1 1 1 1 1 0 1 0 1 1 1 0 1 1 1 1 1 1 1 1 0 1 1 1 0 1 1 0 1 1 0 1 1 1 1 1 1 1 1 1 1 0 1 1 1 1 1 1 1 0 1 1 \n",
            "\n",
            "- Generation 9: Max Fitness = 85.0, Avg Fitness = 75.86333333333333\n",
            "Best Individual =  1 1 1 0 1 0 1 1 1 1 1 1 1 1 1 1 1 1 1 1 1 1 1 1 1 0 1 1 1 1 1 1 1 0 1 1 1 1 1 1 1 1 0 1 0 1 1 1 1 1 1 1 1 0 1 0 1 1 1 0 1 1 1 1 1 1 1 1 0 1 1 1 0 1 1 0 1 1 0 1 1 1 1 1 1 1 1 1 1 0 1 1 1 1 1 1 1 0 1 1 \n",
            "\n",
            "- Generation 10: Max Fitness = 86.0, Avg Fitness = 77.97333333333333\n",
            "Best Individual =  1 1 1 1 1 1 0 1 1 1 1 1 0 1 1 1 1 1 0 1 1 1 1 1 1 1 1 0 1 0 1 1 0 1 1 1 1 1 1 1 0 1 1 1 1 1 0 1 1 1 1 1 1 1 1 1 1 1 1 1 1 1 1 1 0 1 1 0 1 1 1 1 0 1 1 1 1 1 1 1 1 1 1 0 0 1 1 1 1 1 0 1 1 1 1 1 1 1 1 1 \n",
            "\n",
            "- Generation 11: Max Fitness = 87.0, Avg Fitness = 79.98733333333334\n",
            "Best Individual =  1 1 1 0 1 1 1 1 1 1 1 1 1 1 1 1 1 1 1 1 1 1 1 1 1 1 0 1 1 0 1 1 1 1 1 0 1 1 1 1 1 1 1 1 1 1 0 1 1 1 1 1 1 1 1 1 1 1 1 1 1 1 1 1 0 1 1 0 1 1 1 1 0 1 1 0 1 1 0 1 1 1 0 1 0 1 1 1 1 1 0 1 1 1 1 1 1 1 1 1 \n",
            "\n",
            "- Generation 12: Max Fitness = 90.0, Avg Fitness = 81.926\n",
            "Best Individual =  1 1 1 1 1 1 1 1 1 1 1 1 1 1 0 1 1 1 1 1 1 1 1 1 1 0 1 1 1 1 1 1 1 1 1 1 1 1 1 1 1 1 0 1 1 1 0 1 1 1 1 1 1 1 1 1 1 1 1 0 0 1 1 1 1 1 1 1 1 0 1 0 1 1 1 1 1 1 1 1 1 1 1 1 1 1 1 1 1 1 0 1 0 1 1 1 1 1 1 1 \n",
            "\n",
            "- Generation 13: Max Fitness = 91.0, Avg Fitness = 83.75933333333333\n",
            "Best Individual =  1 1 1 1 1 1 1 1 1 1 1 1 1 1 1 1 1 1 1 1 1 1 1 1 1 0 1 1 1 1 1 1 1 1 1 1 1 1 1 1 1 1 0 1 1 1 0 1 1 1 1 1 1 1 1 1 1 1 1 0 0 1 1 1 1 1 1 1 1 0 1 0 1 1 1 1 1 1 1 1 1 1 1 1 1 1 1 1 1 1 0 1 0 1 1 1 1 1 1 1 \n",
            "\n",
            "- Generation 14: Max Fitness = 92.0, Avg Fitness = 85.53533333333333\n",
            "Best Individual =  1 1 1 0 1 1 1 1 1 1 1 1 1 1 1 1 1 1 1 1 1 1 1 1 0 1 0 1 1 1 1 1 1 1 1 1 1 1 1 1 1 1 1 1 1 1 0 1 1 1 1 1 1 1 1 1 1 1 1 1 1 1 1 1 1 1 1 1 1 0 1 0 1 1 1 1 1 1 1 1 1 1 1 1 1 1 1 1 1 1 0 1 0 1 1 1 1 1 1 1 \n",
            "\n",
            "- Generation 15: Max Fitness = 93.0, Avg Fitness = 87.09466666666667\n",
            "Best Individual =  1 1 1 1 1 1 1 1 1 1 1 1 1 1 1 1 1 1 1 1 1 1 1 0 1 1 1 1 1 0 1 1 1 1 1 1 1 1 1 1 1 1 1 1 1 1 1 1 0 0 1 1 1 1 1 1 1 1 1 1 1 1 1 1 1 1 1 1 1 1 1 1 0 1 1 1 1 1 1 1 1 0 1 1 1 1 1 1 1 1 0 1 1 1 1 1 1 1 1 1 \n",
            "\n",
            "- Generation 16: Max Fitness = 95.0, Avg Fitness = 88.572\n",
            "Best Individual =  1 1 1 1 1 1 1 1 1 1 1 1 1 1 1 1 1 1 1 1 1 0 1 1 1 1 1 1 1 1 1 1 1 1 1 1 1 1 1 1 1 0 1 1 1 1 1 1 1 1 1 1 1 1 1 1 1 1 1 1 1 1 1 1 0 1 1 1 1 1 1 1 1 1 1 1 1 1 1 1 1 1 1 1 1 1 1 1 1 1 0 1 0 1 1 1 1 1 1 1 \n",
            "\n",
            "- Generation 17: Max Fitness = 95.0, Avg Fitness = 89.94066666666667\n",
            "Best Individual =  1 1 1 1 1 1 1 1 1 1 1 1 1 1 1 1 1 1 1 1 1 1 1 1 0 1 1 1 1 1 1 1 1 1 1 1 1 1 1 1 1 1 1 1 1 1 0 1 1 1 1 1 1 1 1 1 1 1 1 1 1 1 1 1 1 1 1 1 1 1 1 1 0 1 1 1 1 1 1 1 1 0 1 1 1 1 1 1 1 1 0 1 1 1 1 1 1 1 1 1 \n",
            "\n",
            "- Generation 18: Max Fitness = 96.0, Avg Fitness = 91.37066666666666\n",
            "Best Individual =  1 1 1 1 1 1 1 1 1 1 1 1 1 1 1 1 1 1 1 1 1 1 1 1 1 1 1 1 1 1 1 1 1 1 1 1 1 1 1 1 1 1 1 1 0 1 1 1 1 1 1 1 1 1 1 1 1 1 1 1 1 1 1 1 1 1 1 1 0 1 1 1 1 1 1 1 1 1 1 1 1 1 1 1 1 1 1 1 1 1 0 1 0 1 1 1 1 1 1 1 \n",
            "\n",
            "- Generation 19: Max Fitness = 97.0, Avg Fitness = 92.60933333333334\n",
            "Best Individual =  1 1 1 1 1 1 1 1 1 1 1 1 1 1 1 1 1 1 1 1 1 1 1 1 1 1 1 1 1 1 1 1 1 1 1 1 1 1 1 1 1 1 1 1 0 1 1 1 1 1 1 1 1 1 1 1 1 1 1 1 1 1 1 1 0 1 1 1 1 1 1 1 1 1 1 1 1 1 1 1 1 1 1 1 1 1 1 1 1 1 0 1 1 1 1 1 1 1 1 1 \n",
            "\n",
            "- Generation 20: Max Fitness = 98.0, Avg Fitness = 93.792\n",
            "Best Individual =  1 1 1 1 1 1 1 1 1 1 1 1 1 1 1 1 1 1 1 1 1 1 1 1 1 1 1 1 1 1 1 1 1 1 1 1 1 1 1 1 1 0 1 1 1 1 1 1 1 1 1 1 1 1 1 1 1 1 1 1 1 1 1 1 1 1 1 1 1 1 1 1 1 1 1 1 1 1 1 1 1 1 1 1 1 1 1 1 1 1 0 1 1 1 1 1 1 1 1 1 \n",
            "\n",
            "- Generation 21: Max Fitness = 98.0, Avg Fitness = 94.85666666666667\n",
            "Best Individual =  1 1 1 1 1 1 1 1 1 1 1 1 1 1 1 1 1 1 1 1 1 1 1 1 1 1 1 1 1 1 1 1 1 1 1 1 1 1 1 1 1 1 1 1 1 0 1 1 1 1 1 1 1 1 1 1 1 1 1 1 1 1 1 1 1 1 1 1 1 1 1 1 1 1 1 1 1 0 1 1 1 1 1 1 1 1 1 1 1 1 1 1 1 1 1 1 1 1 1 1 \n",
            "\n",
            "- Generation 22: Max Fitness = 99.0, Avg Fitness = 95.81333333333333\n",
            "Best Individual =  1 1 1 1 1 1 1 1 1 1 1 1 1 1 1 1 1 1 1 1 1 1 1 1 1 1 1 1 1 1 1 1 1 1 1 1 1 1 1 1 1 1 1 1 1 1 0 1 1 1 1 1 1 1 1 1 1 1 1 1 1 1 1 1 1 1 1 1 1 1 1 1 1 1 1 1 1 1 1 1 1 1 1 1 1 1 1 1 1 1 1 1 1 1 1 1 1 1 1 1 \n",
            "\n",
            "- Generation 23: Max Fitness = 99.0, Avg Fitness = 96.63733333333333\n",
            "Best Individual =  1 1 1 1 1 1 1 1 1 1 1 1 1 1 1 1 1 1 1 1 1 1 1 1 1 1 1 1 1 1 1 1 1 1 1 1 1 1 1 1 1 1 1 1 0 1 1 1 1 1 1 1 1 1 1 1 1 1 1 1 1 1 1 1 1 1 1 1 1 1 1 1 1 1 1 1 1 1 1 1 1 1 1 1 1 1 1 1 1 1 1 1 1 1 1 1 1 1 1 1 \n",
            "\n",
            "- Generation 24: Max Fitness = 100.0, Avg Fitness = 97.382\n",
            "Best Individual =  1 1 1 1 1 1 1 1 1 1 1 1 1 1 1 1 1 1 1 1 1 1 1 1 1 1 1 1 1 1 1 1 1 1 1 1 1 1 1 1 1 1 1 1 1 1 1 1 1 1 1 1 1 1 1 1 1 1 1 1 1 1 1 1 1 1 1 1 1 1 1 1 1 1 1 1 1 1 1 1 1 1 1 1 1 1 1 1 1 1 1 1 1 1 1 1 1 1 1 1 \n",
            "\n"
          ]
        }
      ]
    },
    {
      "cell_type": "code",
      "source": [
        "# Genetic Algorithm is done - plot statistics:\n",
        "#sns.set_style(\"whitegrid\")\n",
        "plt.plot(maxFitnessValues, color='red')\n",
        "plt.plot(meanFitnessValues, color='green')\n",
        "plt.xlabel('Generation')\n",
        "plt.ylabel('Max / Average Fitness')\n",
        "plt.title('Max and Average Fitness over Generations')\n",
        "plt.show()"
      ],
      "metadata": {
        "colab": {
          "base_uri": "https://localhost:8080/",
          "height": 472
        },
        "id": "7DG_fzWqxSk_",
        "outputId": "e4337e61-1a75-4b0e-b97d-60149f6b26e5"
      },
      "execution_count": 30,
      "outputs": [
        {
          "output_type": "display_data",
          "data": {
            "text/plain": [
              "<Figure size 640x480 with 1 Axes>"
            ],
            "image/png": "[encoded data removed]"
          },
          "metadata": {}
        }
      ]
    },
    {
      "cell_type": "code",
      "source": [],
      "metadata": {
        "id": "FH8gpfErYkWH"
      },
      "execution_count": 30,
      "outputs": []
    }
  ]
}